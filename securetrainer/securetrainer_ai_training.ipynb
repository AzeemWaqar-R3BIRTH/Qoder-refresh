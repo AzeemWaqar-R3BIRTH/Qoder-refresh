{
 "cells": [
  {
   "cell_type": "code",
   "id": "initial_id",
   "metadata": {
    "collapsed": true,
    "ExecuteTime": {
     "end_time": "2025-05-06T18:49:39.875263Z",
     "start_time": "2025-05-06T18:49:39.739126Z"
    }
   },
   "source": [
    "# 1. Load Analytics Data\n",
    "import pandas as pd\n",
    "\n",
    "df = pd.read_csv(\"analytics.csv\")\n",
    "df.head()\n"
   ],
   "outputs": [
    {
     "data": {
      "text/plain": [
       "  user_id   challenge_id event_type                   timestamp      metadata\n",
       "0  user_1  sql-injection      start  2025-05-06 18:42:11.331816            {}\n",
       "1  user_1  sql-injection       hint  2025-05-06 18:42:11.331816  {'level': 1}\n",
       "2  user_1  sql-injection   complete  2025-05-06 18:42:11.331816            {}\n",
       "3  user_1            xss      start  2025-05-06 18:42:11.331841            {}\n",
       "4  user_1            xss   complete  2025-05-06 18:42:11.331841            {}"
      ],
      "text/html": [
       "<div>\n",
       "<style scoped>\n",
       "    .dataframe tbody tr th:only-of-type {\n",
       "        vertical-align: middle;\n",
       "    }\n",
       "\n",
       "    .dataframe tbody tr th {\n",
       "        vertical-align: top;\n",
       "    }\n",
       "\n",
       "    .dataframe thead th {\n",
       "        text-align: right;\n",
       "    }\n",
       "</style>\n",
       "<table border=\"1\" class=\"dataframe\">\n",
       "  <thead>\n",
       "    <tr style=\"text-align: right;\">\n",
       "      <th></th>\n",
       "      <th>user_id</th>\n",
       "      <th>challenge_id</th>\n",
       "      <th>event_type</th>\n",
       "      <th>timestamp</th>\n",
       "      <th>metadata</th>\n",
       "    </tr>\n",
       "  </thead>\n",
       "  <tbody>\n",
       "    <tr>\n",
       "      <th>0</th>\n",
       "      <td>user_1</td>\n",
       "      <td>sql-injection</td>\n",
       "      <td>start</td>\n",
       "      <td>2025-05-06 18:42:11.331816</td>\n",
       "      <td>{}</td>\n",
       "    </tr>\n",
       "    <tr>\n",
       "      <th>1</th>\n",
       "      <td>user_1</td>\n",
       "      <td>sql-injection</td>\n",
       "      <td>hint</td>\n",
       "      <td>2025-05-06 18:42:11.331816</td>\n",
       "      <td>{'level': 1}</td>\n",
       "    </tr>\n",
       "    <tr>\n",
       "      <th>2</th>\n",
       "      <td>user_1</td>\n",
       "      <td>sql-injection</td>\n",
       "      <td>complete</td>\n",
       "      <td>2025-05-06 18:42:11.331816</td>\n",
       "      <td>{}</td>\n",
       "    </tr>\n",
       "    <tr>\n",
       "      <th>3</th>\n",
       "      <td>user_1</td>\n",
       "      <td>xss</td>\n",
       "      <td>start</td>\n",
       "      <td>2025-05-06 18:42:11.331841</td>\n",
       "      <td>{}</td>\n",
       "    </tr>\n",
       "    <tr>\n",
       "      <th>4</th>\n",
       "      <td>user_1</td>\n",
       "      <td>xss</td>\n",
       "      <td>complete</td>\n",
       "      <td>2025-05-06 18:42:11.331841</td>\n",
       "      <td>{}</td>\n",
       "    </tr>\n",
       "  </tbody>\n",
       "</table>\n",
       "</div>"
      ]
     },
     "execution_count": 18,
     "metadata": {},
     "output_type": "execute_result"
    }
   ],
   "execution_count": 18
  },
  {
   "metadata": {
    "ExecuteTime": {
     "end_time": "2025-05-06T18:49:41.670713Z",
     "start_time": "2025-05-06T18:49:41.470364Z"
    }
   },
   "cell_type": "code",
   "source": [
    "# 2. Feature Engineering\n",
    "df['timestamp'] = pd.to_datetime(df['timestamp'])\n",
    "\n",
    "# Example: Total hints per challenge\n",
    "hint_data = df[df['event_type'] == 'hint']\n",
    "hint_counts = hint_data.groupby(['user_id', 'challenge_id']).size().reset_index(name='hint_count')\n",
    "\n",
    "# Completion flag\n",
    "df['completed'] = df['event_type'].apply(lambda x: 1 if x == 'complete' else 0)\n",
    "\n",
    "# Merge hint count\n",
    "features = df[df['event_type'] == 'start'][['user_id', 'challenge_id', 'timestamp']].merge(hint_counts, on=['user_id', 'challenge_id'], how='left')\n",
    "features = features.fillna({'hint_count': 0})\n"
   ],
   "id": "8c51c550666d631",
   "outputs": [],
   "execution_count": 19
  },
  {
   "metadata": {
    "ExecuteTime": {
     "end_time": "2025-05-06T18:49:42.717714Z",
     "start_time": "2025-05-06T18:49:42.574852Z"
    }
   },
   "cell_type": "code",
   "source": [
    "# 3. Create Labels (Difficulty level - mock or mapped externally)\n",
    "import numpy as np\n",
    "features['difficulty'] = np.where(features['hint_count'] > 2, 'hard',\n",
    "                          np.where(features['hint_count'] > 0, 'medium', 'easy'))\n"
   ],
   "id": "e1820b6ddf395acc",
   "outputs": [],
   "execution_count": 20
  },
  {
   "metadata": {
    "ExecuteTime": {
     "end_time": "2025-05-06T18:49:45.626016Z",
     "start_time": "2025-05-06T18:49:43.644358Z"
    }
   },
   "cell_type": "code",
   "source": [
    "# 4. Encode + Train Model\n",
    "from sklearn.model_selection import train_test_split\n",
    "from sklearn.ensemble import RandomForestClassifier\n",
    "from sklearn.preprocessing import LabelEncoder\n",
    "\n",
    "X = features[['hint_count']]\n",
    "y = features['difficulty']\n",
    "\n",
    "le = LabelEncoder()\n",
    "y_encoded = le.fit_transform(y)\n",
    "\n",
    "X_train, X_test, y_train, y_test = train_test_split(X, y_encoded, test_size=0.2, random_state=42)\n",
    "\n",
    "model = RandomForestClassifier()\n",
    "model.fit(X_train, y_train)\n",
    "\n",
    "print(\"Accuracy:\", model.score(X_test, y_test))\n"
   ],
   "id": "6ee03c4228b86406",
   "outputs": [
    {
     "name": "stdout",
     "output_type": "stream",
     "text": [
      "Accuracy: 1.0\n"
     ]
    }
   ],
   "execution_count": 21
  },
  {
   "metadata": {
    "ExecuteTime": {
     "end_time": "2025-05-06T18:49:46.381277Z",
     "start_time": "2025-05-06T18:49:45.888634Z"
    }
   },
   "cell_type": "code",
   "source": [
    "# 5. Predict on New Behavior\n",
    "model.predict([[0]])  # Low hint user → likely \"easy\"\n",
    "model.predict([[3]])  # High hint → \"hard\"\n"
   ],
   "id": "c4da9571200176c8",
   "outputs": [
    {
     "name": "stderr",
     "output_type": "stream",
     "text": [
      "C:\\Users\\Azeem Waqar\\AppData\\Local\\Programs\\Python\\Python313\\Lib\\site-packages\\sklearn\\utils\\validation.py:2739: UserWarning: X does not have valid feature names, but RandomForestClassifier was fitted with feature names\n",
      "  warnings.warn(\n",
      "C:\\Users\\Azeem Waqar\\AppData\\Local\\Programs\\Python\\Python313\\Lib\\site-packages\\sklearn\\utils\\validation.py:2739: UserWarning: X does not have valid feature names, but RandomForestClassifier was fitted with feature names\n",
      "  warnings.warn(\n"
     ]
    },
    {
     "data": {
      "text/plain": [
       "array([1])"
      ]
     },
     "execution_count": 22,
     "metadata": {},
     "output_type": "execute_result"
    }
   ],
   "execution_count": 22
  },
  {
   "metadata": {
    "ExecuteTime": {
     "end_time": "2025-05-06T18:49:47.232545Z",
     "start_time": "2025-05-06T18:49:46.597415Z"
    }
   },
   "cell_type": "code",
   "source": [
    "import joblib\n",
    "\n",
    "# Save both model and label encoder\n",
    "joblib.dump(model, \"model/challenge_difficulty_model.pkl\")\n",
    "joblib.dump(le, \"model/label_encoder.pkl\")\n"
   ],
   "id": "ea366b93649b75c2",
   "outputs": [
    {
     "data": {
      "text/plain": [
       "['model/label_encoder.pkl']"
      ]
     },
     "execution_count": 23,
     "metadata": {},
     "output_type": "execute_result"
    }
   ],
   "execution_count": 23
  }
 ],
 "metadata": {
  "kernelspec": {
   "display_name": "Python 3",
   "language": "python",
   "name": "python3"
  },
  "language_info": {
   "codemirror_mode": {
    "name": "ipython",
    "version": 2
   },
   "file_extension": ".py",
   "mimetype": "text/x-python",
   "name": "python",
   "nbconvert_exporter": "python",
   "pygments_lexer": "ipython2",
   "version": "2.7.6"
  }
 },
 "nbformat": 4,
 "nbformat_minor": 5
}
